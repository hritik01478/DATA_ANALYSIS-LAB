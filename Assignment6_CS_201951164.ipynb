{
  "cells": [
    {
      "cell_type": "markdown",
      "metadata": {
        "id": "view-in-github",
        "colab_type": "text"
      },
      "source": [
        "<a href=\"https://colab.research.google.com/github/urmila-24/DATA_ANALYSIS-LAB/blob/main/Assignment6_CS_201951164.ipynb\" target=\"_parent\"><img src=\"https://colab.research.google.com/assets/colab-badge.svg\" alt=\"Open In Colab\"/></a>"
      ]
    },
    {
      "cell_type": "markdown",
      "id": "8a7d86fb",
      "metadata": {
        "id": "8a7d86fb"
      },
      "source": [
        "#                                  Data Analysis Lab Assignment-6 \n",
        "### Name - Urmila Rathore\n",
        "### ID - 201951164\n",
        "### Section - 1"
      ]
    },
    {
      "cell_type": "markdown",
      "id": "4fc69544",
      "metadata": {
        "id": "4fc69544"
      },
      "source": [
        "### Import statements"
      ]
    },
    {
      "cell_type": "code",
      "execution_count": null,
      "id": "bc0edcee",
      "metadata": {
        "id": "bc0edcee"
      },
      "outputs": [],
      "source": [
        "import pandas as pd\n",
        "import seaborn as sns\n",
        "import math"
      ]
    },
    {
      "cell_type": "code",
      "execution_count": null,
      "id": "26c64e5d",
      "metadata": {
        "id": "26c64e5d",
        "outputId": "e12bedf4-9c09-4b57-e460-aa8d10cceb60"
      },
      "outputs": [
        {
          "data": {
            "text/html": [
              "<div>\n",
              "<style scoped>\n",
              "    .dataframe tbody tr th:only-of-type {\n",
              "        vertical-align: middle;\n",
              "    }\n",
              "\n",
              "    .dataframe tbody tr th {\n",
              "        vertical-align: top;\n",
              "    }\n",
              "\n",
              "    .dataframe thead th {\n",
              "        text-align: right;\n",
              "    }\n",
              "</style>\n",
              "<table border=\"1\" class=\"dataframe\">\n",
              "  <thead>\n",
              "    <tr style=\"text-align: right;\">\n",
              "      <th></th>\n",
              "      <th>Company Name</th>\n",
              "      <th>Index_type</th>\n",
              "      <th>Sector</th>\n",
              "      <th>Industry</th>\n",
              "      <th>Symbol</th>\n",
              "      <th>P/E</th>\n",
              "      <th>MarketCap</th>\n",
              "    </tr>\n",
              "  </thead>\n",
              "  <tbody>\n",
              "    <tr>\n",
              "      <th>0</th>\n",
              "      <td>Reliance Industries Limited</td>\n",
              "      <td>Large</td>\n",
              "      <td>Energy</td>\n",
              "      <td>Oil &amp; Gas Refining &amp; Marketing</td>\n",
              "      <td>RELIANCE</td>\n",
              "      <td>27.617010</td>\n",
              "      <td>1.631686e+13</td>\n",
              "    </tr>\n",
              "    <tr>\n",
              "      <th>1</th>\n",
              "      <td>Tata Consultancy Services Limited</td>\n",
              "      <td>Large</td>\n",
              "      <td>Technology</td>\n",
              "      <td>Information Technology Services</td>\n",
              "      <td>TCS</td>\n",
              "      <td>37.613270</td>\n",
              "      <td>1.415626e+13</td>\n",
              "    </tr>\n",
              "    <tr>\n",
              "      <th>2</th>\n",
              "      <td>HDFC Bank Limited</td>\n",
              "      <td>Large</td>\n",
              "      <td>Financial Services</td>\n",
              "      <td>Banks—Regional</td>\n",
              "      <td>HDFCBANK</td>\n",
              "      <td>23.326649</td>\n",
              "      <td>8.380209e+12</td>\n",
              "    </tr>\n",
              "    <tr>\n",
              "      <th>3</th>\n",
              "      <td>Infosys Limited</td>\n",
              "      <td>Large</td>\n",
              "      <td>Technology</td>\n",
              "      <td>Information Technology Services</td>\n",
              "      <td>INFY</td>\n",
              "      <td>33.900620</td>\n",
              "      <td>7.280080e+12</td>\n",
              "    </tr>\n",
              "    <tr>\n",
              "      <th>4</th>\n",
              "      <td>Hindustan Unilever Limited</td>\n",
              "      <td>Large</td>\n",
              "      <td>Consumer Defensive</td>\n",
              "      <td>Household &amp; Personal Products</td>\n",
              "      <td>HINDUNILVR</td>\n",
              "      <td>61.147617</td>\n",
              "      <td>5.356948e+12</td>\n",
              "    </tr>\n",
              "    <tr>\n",
              "      <th>...</th>\n",
              "      <td>...</td>\n",
              "      <td>...</td>\n",
              "      <td>...</td>\n",
              "      <td>...</td>\n",
              "      <td>...</td>\n",
              "      <td>...</td>\n",
              "      <td>...</td>\n",
              "    </tr>\n",
              "    <tr>\n",
              "      <th>1915</th>\n",
              "      <td>CKP Leisure Limited</td>\n",
              "      <td>None</td>\n",
              "      <td>Don't Know</td>\n",
              "      <td>Don't Know</td>\n",
              "      <td>CKPLEISURE</td>\n",
              "      <td>0.000000</td>\n",
              "      <td>0.000000e+00</td>\n",
              "    </tr>\n",
              "    <tr>\n",
              "      <th>1916</th>\n",
              "      <td>CKP Products Limited</td>\n",
              "      <td>None</td>\n",
              "      <td>Don't Know</td>\n",
              "      <td>Don't Know</td>\n",
              "      <td>CKPPRODUCT</td>\n",
              "      <td>0.000000</td>\n",
              "      <td>0.000000e+00</td>\n",
              "    </tr>\n",
              "    <tr>\n",
              "      <th>1917</th>\n",
              "      <td>Fourth Dimension Solutions Limited</td>\n",
              "      <td>None</td>\n",
              "      <td>Don't Know</td>\n",
              "      <td>Don't Know</td>\n",
              "      <td>FOURTHDIM</td>\n",
              "      <td>0.000000</td>\n",
              "      <td>0.000000e+00</td>\n",
              "    </tr>\n",
              "    <tr>\n",
              "      <th>1918</th>\n",
              "      <td>Artedz Fabs Limited</td>\n",
              "      <td>None</td>\n",
              "      <td>Don't Know</td>\n",
              "      <td>Don't Know</td>\n",
              "      <td>ARTEDZ</td>\n",
              "      <td>0.000000</td>\n",
              "      <td>0.000000e+00</td>\n",
              "    </tr>\n",
              "    <tr>\n",
              "      <th>1919</th>\n",
              "      <td>Bansal Multiflex Limited</td>\n",
              "      <td>None</td>\n",
              "      <td>Don't Know</td>\n",
              "      <td>Don't Know</td>\n",
              "      <td>BANSAL</td>\n",
              "      <td>0.000000</td>\n",
              "      <td>0.000000e+00</td>\n",
              "    </tr>\n",
              "  </tbody>\n",
              "</table>\n",
              "<p>1920 rows × 7 columns</p>\n",
              "</div>"
            ],
            "text/plain": [
              "                            Company Name Index_type              Sector  \\\n",
              "0            Reliance Industries Limited      Large              Energy   \n",
              "1      Tata Consultancy Services Limited      Large          Technology   \n",
              "2                      HDFC Bank Limited      Large  Financial Services   \n",
              "3                        Infosys Limited      Large          Technology   \n",
              "4             Hindustan Unilever Limited      Large  Consumer Defensive   \n",
              "...                                  ...        ...                 ...   \n",
              "1915                 CKP Leisure Limited       None          Don't Know   \n",
              "1916                CKP Products Limited       None          Don't Know   \n",
              "1917  Fourth Dimension Solutions Limited       None          Don't Know   \n",
              "1918                 Artedz Fabs Limited       None          Don't Know   \n",
              "1919            Bansal Multiflex Limited       None          Don't Know   \n",
              "\n",
              "                             Industry      Symbol        P/E     MarketCap  \n",
              "0      Oil & Gas Refining & Marketing    RELIANCE  27.617010  1.631686e+13  \n",
              "1     Information Technology Services         TCS  37.613270  1.415626e+13  \n",
              "2                      Banks—Regional    HDFCBANK  23.326649  8.380209e+12  \n",
              "3     Information Technology Services        INFY  33.900620  7.280080e+12  \n",
              "4       Household & Personal Products  HINDUNILVR  61.147617  5.356948e+12  \n",
              "...                               ...         ...        ...           ...  \n",
              "1915                       Don't Know  CKPLEISURE   0.000000  0.000000e+00  \n",
              "1916                       Don't Know  CKPPRODUCT   0.000000  0.000000e+00  \n",
              "1917                       Don't Know   FOURTHDIM   0.000000  0.000000e+00  \n",
              "1918                       Don't Know      ARTEDZ   0.000000  0.000000e+00  \n",
              "1919                       Don't Know      BANSAL   0.000000  0.000000e+00  \n",
              "\n",
              "[1920 rows x 7 columns]"
            ]
          },
          "execution_count": 2,
          "metadata": {},
          "output_type": "execute_result"
        }
      ],
      "source": [
        "df=pd.read_csv(r\"C:\\Users\\Hp\\Desktop\\SHAPEAI\\DATA_ANALYSIS-LAB\\Stocks_pe.csv\")\n",
        "df"
      ]
    },
    {
      "cell_type": "markdown",
      "id": "cba30179",
      "metadata": {
        "id": "cba30179"
      },
      "source": [
        "### Removing all zero and NA rows from Data frame"
      ]
    },
    {
      "cell_type": "code",
      "execution_count": null,
      "id": "aa6607cc",
      "metadata": {
        "id": "aa6607cc"
      },
      "outputs": [],
      "source": [
        "df = df[df[\"P/E\"]!= 0]\n",
        "df=df.dropna()"
      ]
    },
    {
      "cell_type": "markdown",
      "id": "6a6eaa1d",
      "metadata": {
        "id": "6a6eaa1d"
      },
      "source": [
        "### Mean"
      ]
    },
    {
      "cell_type": "code",
      "execution_count": null,
      "id": "5e2280dc",
      "metadata": {
        "id": "5e2280dc",
        "outputId": "2b69975e-5fd0-44a0-b047-a70a4a8168f6"
      },
      "outputs": [
        {
          "name": "stdout",
          "output_type": "stream",
          "text": [
            "Mean of the data is  50.95912372328675\n"
          ]
        }
      ],
      "source": [
        "print(\"Mean of the data is \",df[\"P/E\"].mean())"
      ]
    },
    {
      "cell_type": "markdown",
      "id": "6200e347",
      "metadata": {
        "id": "6200e347"
      },
      "source": [
        "### Median"
      ]
    },
    {
      "cell_type": "code",
      "execution_count": null,
      "id": "ddca752c",
      "metadata": {
        "id": "ddca752c",
        "outputId": "7ef66d22-7ad7-4f82-d20c-37d016393867"
      },
      "outputs": [
        {
          "name": "stdout",
          "output_type": "stream",
          "text": [
            "Median of the data is  20.721981\n"
          ]
        }
      ],
      "source": [
        "print(\"Median of the data is \",df[\"P/E\"].median())"
      ]
    },
    {
      "cell_type": "markdown",
      "id": "d69a2d02",
      "metadata": {
        "id": "d69a2d02"
      },
      "source": [
        "### Histogram Plot of data"
      ]
    },
    {
      "cell_type": "code",
      "execution_count": null,
      "id": "6b801575",
      "metadata": {
        "id": "6b801575",
        "outputId": "e3ef463f-b0ee-4dfe-cb4f-4477d2ea86af"
      },
      "outputs": [
        {
          "data": {
            "text/plain": [
              "<AxesSubplot:xlabel='P/E', ylabel='Count'>"
            ]
          },
          "execution_count": 6,
          "metadata": {},
          "output_type": "execute_result"
        },
        {
          "data": {
            "image/png": "[encoded data removed]",
            "text/plain": [
              "<Figure size 432x288 with 1 Axes>"
            ]
          },
          "metadata": {
            "needs_background": "light"
          },
          "output_type": "display_data"
        }
      ],
      "source": [
        "sns.histplot(data=df, x=\"P/E\",bins=15,kde=True)"
      ]
    },
    {
      "cell_type": "markdown",
      "id": "9d34a73c",
      "metadata": {
        "id": "9d34a73c"
      },
      "source": [
        "### Box plot of data"
      ]
    },
    {
      "cell_type": "code",
      "execution_count": null,
      "id": "9f08fc8d",
      "metadata": {
        "id": "9f08fc8d",
        "outputId": "22e105e1-02ba-420f-95ac-d9082baabe08"
      },
      "outputs": [
        {
          "data": {
            "text/plain": [
              "<AxesSubplot:ylabel='P/E'>"
            ]
          },
          "execution_count": 7,
          "metadata": {},
          "output_type": "execute_result"
        },
        {
          "data": {
            "image/png": "[encoded data removed]",
            "text/plain": [
              "<Figure size 432x288 with 1 Axes>"
            ]
          },
          "metadata": {
            "needs_background": "light"
          },
          "output_type": "display_data"
        }
      ],
      "source": [
        "sns.boxplot(y=df[\"P/E\"])"
      ]
    },
    {
      "cell_type": "markdown",
      "id": "3474cd53",
      "metadata": {
        "id": "3474cd53"
      },
      "source": [
        "#### There is a huge difference between mean and median due to noise present in the data which can be observed in box plot as the points are spreaded over."
      ]
    },
    {
      "cell_type": "code",
      "execution_count": null,
      "id": "00ac0f81",
      "metadata": {
        "id": "00ac0f81",
        "outputId": "65dc84e3-f91e-4295-fb0f-34bd1a8a691f"
      },
      "outputs": [
        {
          "data": {
            "text/html": [
              "<div>\n",
              "<style scoped>\n",
              "    .dataframe tbody tr th:only-of-type {\n",
              "        vertical-align: middle;\n",
              "    }\n",
              "\n",
              "    .dataframe tbody tr th {\n",
              "        vertical-align: top;\n",
              "    }\n",
              "\n",
              "    .dataframe thead th {\n",
              "        text-align: right;\n",
              "    }\n",
              "</style>\n",
              "<table border=\"1\" class=\"dataframe\">\n",
              "  <thead>\n",
              "    <tr style=\"text-align: right;\">\n",
              "      <th></th>\n",
              "      <th>Company Name</th>\n",
              "      <th>Index_type</th>\n",
              "      <th>Sector</th>\n",
              "      <th>Industry</th>\n",
              "      <th>Symbol</th>\n",
              "      <th>P/E</th>\n",
              "      <th>MarketCap</th>\n",
              "      <th>wt</th>\n",
              "    </tr>\n",
              "  </thead>\n",
              "  <tbody>\n",
              "    <tr>\n",
              "      <th>0</th>\n",
              "      <td>Reliance Industries Limited</td>\n",
              "      <td>Large</td>\n",
              "      <td>Energy</td>\n",
              "      <td>Oil &amp; Gas Refining &amp; Marketing</td>\n",
              "      <td>RELIANCE</td>\n",
              "      <td>27.617010</td>\n",
              "      <td>1.631686e+13</td>\n",
              "      <td>6.933172e-02</td>\n",
              "    </tr>\n",
              "    <tr>\n",
              "      <th>1</th>\n",
              "      <td>Tata Consultancy Services Limited</td>\n",
              "      <td>Large</td>\n",
              "      <td>Technology</td>\n",
              "      <td>Information Technology Services</td>\n",
              "      <td>TCS</td>\n",
              "      <td>37.613270</td>\n",
              "      <td>1.415626e+13</td>\n",
              "      <td>6.015116e-02</td>\n",
              "    </tr>\n",
              "    <tr>\n",
              "      <th>2</th>\n",
              "      <td>HDFC Bank Limited</td>\n",
              "      <td>Large</td>\n",
              "      <td>Financial Services</td>\n",
              "      <td>Banks—Regional</td>\n",
              "      <td>HDFCBANK</td>\n",
              "      <td>23.326649</td>\n",
              "      <td>8.380209e+12</td>\n",
              "      <td>3.560822e-02</td>\n",
              "    </tr>\n",
              "    <tr>\n",
              "      <th>3</th>\n",
              "      <td>Infosys Limited</td>\n",
              "      <td>Large</td>\n",
              "      <td>Technology</td>\n",
              "      <td>Information Technology Services</td>\n",
              "      <td>INFY</td>\n",
              "      <td>33.900620</td>\n",
              "      <td>7.280080e+12</td>\n",
              "      <td>3.093367e-02</td>\n",
              "    </tr>\n",
              "    <tr>\n",
              "      <th>4</th>\n",
              "      <td>Hindustan Unilever Limited</td>\n",
              "      <td>Large</td>\n",
              "      <td>Consumer Defensive</td>\n",
              "      <td>Household &amp; Personal Products</td>\n",
              "      <td>HINDUNILVR</td>\n",
              "      <td>61.147617</td>\n",
              "      <td>5.356948e+12</td>\n",
              "      <td>2.276212e-02</td>\n",
              "    </tr>\n",
              "    <tr>\n",
              "      <th>...</th>\n",
              "      <td>...</td>\n",
              "      <td>...</td>\n",
              "      <td>...</td>\n",
              "      <td>...</td>\n",
              "      <td>...</td>\n",
              "      <td>...</td>\n",
              "      <td>...</td>\n",
              "      <td>...</td>\n",
              "    </tr>\n",
              "    <tr>\n",
              "      <th>1856</th>\n",
              "      <td>Nakoda Limited</td>\n",
              "      <td>None</td>\n",
              "      <td>Consumer Cyclical</td>\n",
              "      <td>Textile Manufacturing</td>\n",
              "      <td>NAKODA</td>\n",
              "      <td>0.021617</td>\n",
              "      <td>1.500000e+07</td>\n",
              "      <td>6.373627e-08</td>\n",
              "    </tr>\n",
              "    <tr>\n",
              "      <th>1862</th>\n",
              "      <td>PBA Infrastructure Limited</td>\n",
              "      <td>None</td>\n",
              "      <td>Industrials</td>\n",
              "      <td>Engineering &amp; Construction</td>\n",
              "      <td>PBAINFRA</td>\n",
              "      <td>7.011893</td>\n",
              "      <td>1.925843e+08</td>\n",
              "      <td>8.183070e-07</td>\n",
              "    </tr>\n",
              "    <tr>\n",
              "      <th>1872</th>\n",
              "      <td>Quintegra Solutions Limited</td>\n",
              "      <td>None</td>\n",
              "      <td>Technology</td>\n",
              "      <td>Information Technology Services</td>\n",
              "      <td>QUINTEGRA</td>\n",
              "      <td>35.576923</td>\n",
              "      <td>4.960553e+07</td>\n",
              "      <td>2.107781e-07</td>\n",
              "    </tr>\n",
              "    <tr>\n",
              "      <th>1882</th>\n",
              "      <td>Sharon Bio-Medicine Limited</td>\n",
              "      <td>None</td>\n",
              "      <td>Healthcare</td>\n",
              "      <td>Drug Manufacturers—Specialty &amp; Generic</td>\n",
              "      <td>SHARONBIO</td>\n",
              "      <td>1.028999</td>\n",
              "      <td>3.817836e+07</td>\n",
              "      <td>1.622231e-07</td>\n",
              "    </tr>\n",
              "    <tr>\n",
              "      <th>1897</th>\n",
              "      <td>Talwalkars Healthclubs Limited</td>\n",
              "      <td>None</td>\n",
              "      <td>Consumer Cyclical</td>\n",
              "      <td>Leisure</td>\n",
              "      <td>TALWGYM</td>\n",
              "      <td>0.135747</td>\n",
              "      <td>3.255514e+07</td>\n",
              "      <td>1.383296e-07</td>\n",
              "    </tr>\n",
              "  </tbody>\n",
              "</table>\n",
              "<p>1238 rows × 8 columns</p>\n",
              "</div>"
            ],
            "text/plain": [
              "                           Company Name Index_type              Sector  \\\n",
              "0           Reliance Industries Limited      Large              Energy   \n",
              "1     Tata Consultancy Services Limited      Large          Technology   \n",
              "2                     HDFC Bank Limited      Large  Financial Services   \n",
              "3                       Infosys Limited      Large          Technology   \n",
              "4            Hindustan Unilever Limited      Large  Consumer Defensive   \n",
              "...                                 ...        ...                 ...   \n",
              "1856                     Nakoda Limited       None   Consumer Cyclical   \n",
              "1862         PBA Infrastructure Limited       None         Industrials   \n",
              "1872        Quintegra Solutions Limited       None          Technology   \n",
              "1882        Sharon Bio-Medicine Limited       None          Healthcare   \n",
              "1897     Talwalkars Healthclubs Limited       None   Consumer Cyclical   \n",
              "\n",
              "                                    Industry      Symbol        P/E  \\\n",
              "0             Oil & Gas Refining & Marketing    RELIANCE  27.617010   \n",
              "1            Information Technology Services         TCS  37.613270   \n",
              "2                             Banks—Regional    HDFCBANK  23.326649   \n",
              "3            Information Technology Services        INFY  33.900620   \n",
              "4              Household & Personal Products  HINDUNILVR  61.147617   \n",
              "...                                      ...         ...        ...   \n",
              "1856                   Textile Manufacturing      NAKODA   0.021617   \n",
              "1862              Engineering & Construction    PBAINFRA   7.011893   \n",
              "1872         Information Technology Services   QUINTEGRA  35.576923   \n",
              "1882  Drug Manufacturers—Specialty & Generic   SHARONBIO   1.028999   \n",
              "1897                                 Leisure     TALWGYM   0.135747   \n",
              "\n",
              "         MarketCap            wt  \n",
              "0     1.631686e+13  6.933172e-02  \n",
              "1     1.415626e+13  6.015116e-02  \n",
              "2     8.380209e+12  3.560822e-02  \n",
              "3     7.280080e+12  3.093367e-02  \n",
              "4     5.356948e+12  2.276212e-02  \n",
              "...            ...           ...  \n",
              "1856  1.500000e+07  6.373627e-08  \n",
              "1862  1.925843e+08  8.183070e-07  \n",
              "1872  4.960553e+07  2.107781e-07  \n",
              "1882  3.817836e+07  1.622231e-07  \n",
              "1897  3.255514e+07  1.383296e-07  \n",
              "\n",
              "[1238 rows x 8 columns]"
            ]
          },
          "execution_count": 8,
          "metadata": {},
          "output_type": "execute_result"
        }
      ],
      "source": [
        "df[\"wt\"]=df[\"MarketCap\"]/df[\"MarketCap\"].sum()\n",
        "df"
      ]
    },
    {
      "cell_type": "markdown",
      "id": "04fa1804",
      "metadata": {
        "id": "04fa1804"
      },
      "source": [
        "###  Weighted mean"
      ]
    },
    {
      "cell_type": "code",
      "execution_count": null,
      "id": "ce6b3f14",
      "metadata": {
        "id": "ce6b3f14",
        "outputId": "ac44c950-a2c4-49ab-bac8-667e6602282d"
      },
      "outputs": [
        {
          "name": "stdout",
          "output_type": "stream",
          "text": [
            "Weighted mean of data is  74.23566337509136\n"
          ]
        }
      ],
      "source": [
        "#  Weighted mean\n",
        "tmp=(df[\"P/E\"]*df[\"wt\"])/df[\"wt\"].sum()\n",
        "weighted_mean=tmp.sum()\n",
        "print(\"Weighted mean of data is \",weighted_mean)"
      ]
    },
    {
      "cell_type": "markdown",
      "id": "b3e60f36",
      "metadata": {
        "id": "b3e60f36"
      },
      "source": [
        "### Sorting Data"
      ]
    },
    {
      "cell_type": "code",
      "execution_count": null,
      "id": "49b42d94",
      "metadata": {
        "id": "49b42d94",
        "outputId": "af94e9d3-df87-4151-a7b1-cadf0445740f"
      },
      "outputs": [
        {
          "data": {
            "text/html": [
              "<div>\n",
              "<style scoped>\n",
              "    .dataframe tbody tr th:only-of-type {\n",
              "        vertical-align: middle;\n",
              "    }\n",
              "\n",
              "    .dataframe tbody tr th {\n",
              "        vertical-align: top;\n",
              "    }\n",
              "\n",
              "    .dataframe thead th {\n",
              "        text-align: right;\n",
              "    }\n",
              "</style>\n",
              "<table border=\"1\" class=\"dataframe\">\n",
              "  <thead>\n",
              "    <tr style=\"text-align: right;\">\n",
              "      <th></th>\n",
              "      <th>Company Name</th>\n",
              "      <th>Index_type</th>\n",
              "      <th>Sector</th>\n",
              "      <th>Industry</th>\n",
              "      <th>Symbol</th>\n",
              "      <th>P/E</th>\n",
              "      <th>MarketCap</th>\n",
              "      <th>wt</th>\n",
              "    </tr>\n",
              "  </thead>\n",
              "  <tbody>\n",
              "    <tr>\n",
              "      <th>1850</th>\n",
              "      <td>LEEL Electricals Limited</td>\n",
              "      <td>None</td>\n",
              "      <td>Industrials</td>\n",
              "      <td>Specialty Industrial Machinery</td>\n",
              "      <td>LEEL</td>\n",
              "      <td>0.019770</td>\n",
              "      <td>1.008308e+08</td>\n",
              "      <td>4.284384e-07</td>\n",
              "    </tr>\n",
              "    <tr>\n",
              "      <th>1856</th>\n",
              "      <td>Nakoda Limited</td>\n",
              "      <td>None</td>\n",
              "      <td>Consumer Cyclical</td>\n",
              "      <td>Textile Manufacturing</td>\n",
              "      <td>NAKODA</td>\n",
              "      <td>0.021617</td>\n",
              "      <td>1.500000e+07</td>\n",
              "      <td>6.373627e-08</td>\n",
              "    </tr>\n",
              "    <tr>\n",
              "      <th>1829</th>\n",
              "      <td>Gitanjali Gems Limited</td>\n",
              "      <td>None</td>\n",
              "      <td>Consumer Cyclical</td>\n",
              "      <td>Luxury Goods</td>\n",
              "      <td>GITANJALI</td>\n",
              "      <td>0.062278</td>\n",
              "      <td>1.257333e+08</td>\n",
              "      <td>5.342514e-07</td>\n",
              "    </tr>\n",
              "    <tr>\n",
              "      <th>1809</th>\n",
              "      <td>Binani Industries Limited</td>\n",
              "      <td>None</td>\n",
              "      <td>Basic Materials</td>\n",
              "      <td>Specialty Chemicals</td>\n",
              "      <td>BINANIIND</td>\n",
              "      <td>0.069511</td>\n",
              "      <td>1.740824e+08</td>\n",
              "      <td>7.396909e-07</td>\n",
              "    </tr>\n",
              "    <tr>\n",
              "      <th>1897</th>\n",
              "      <td>Talwalkars Healthclubs Limited</td>\n",
              "      <td>None</td>\n",
              "      <td>Consumer Cyclical</td>\n",
              "      <td>Leisure</td>\n",
              "      <td>TALWGYM</td>\n",
              "      <td>0.135747</td>\n",
              "      <td>3.255514e+07</td>\n",
              "      <td>1.383296e-07</td>\n",
              "    </tr>\n",
              "    <tr>\n",
              "      <th>...</th>\n",
              "      <td>...</td>\n",
              "      <td>...</td>\n",
              "      <td>...</td>\n",
              "      <td>...</td>\n",
              "      <td>...</td>\n",
              "      <td>...</td>\n",
              "      <td>...</td>\n",
              "      <td>...</td>\n",
              "    </tr>\n",
              "    <tr>\n",
              "      <th>1291</th>\n",
              "      <td>Mangalam Global Enterprise Limited</td>\n",
              "      <td>None</td>\n",
              "      <td>Consumer Defensive</td>\n",
              "      <td>Farm Products</td>\n",
              "      <td>MGEL</td>\n",
              "      <td>1833.529400</td>\n",
              "      <td>3.909669e+09</td>\n",
              "      <td>1.661251e-05</td>\n",
              "    </tr>\n",
              "    <tr>\n",
              "      <th>20</th>\n",
              "      <td>Adani Green Energy Limited</td>\n",
              "      <td>Large</td>\n",
              "      <td>Utilities</td>\n",
              "      <td>Utilities—Renewable</td>\n",
              "      <td>ADANIGREEN</td>\n",
              "      <td>1853.574800</td>\n",
              "      <td>3.041061e+12</td>\n",
              "      <td>1.292173e-02</td>\n",
              "    </tr>\n",
              "    <tr>\n",
              "      <th>367</th>\n",
              "      <td>V-Mart Retail Limited</td>\n",
              "      <td>None</td>\n",
              "      <td>Consumer Cyclical</td>\n",
              "      <td>Department Stores</td>\n",
              "      <td>VMART</td>\n",
              "      <td>1950.191500</td>\n",
              "      <td>7.059777e+10</td>\n",
              "      <td>2.999759e-04</td>\n",
              "    </tr>\n",
              "    <tr>\n",
              "      <th>1322</th>\n",
              "      <td>Lloyds Steels Industries Limited</td>\n",
              "      <td>None</td>\n",
              "      <td>Industrials</td>\n",
              "      <td>Specialty Industrial Machinery</td>\n",
              "      <td>LSIL</td>\n",
              "      <td>2783.333500</td>\n",
              "      <td>1.500826e+10</td>\n",
              "      <td>6.377135e-05</td>\n",
              "    </tr>\n",
              "    <tr>\n",
              "      <th>1731</th>\n",
              "      <td>Onelife Capital Advisors Limited</td>\n",
              "      <td>None</td>\n",
              "      <td>Financial Services</td>\n",
              "      <td>Capital Markets</td>\n",
              "      <td>ONELIFECAP</td>\n",
              "      <td>3512.500000</td>\n",
              "      <td>1.880761e+08</td>\n",
              "      <td>7.991513e-07</td>\n",
              "    </tr>\n",
              "  </tbody>\n",
              "</table>\n",
              "<p>1238 rows × 8 columns</p>\n",
              "</div>"
            ],
            "text/plain": [
              "                            Company Name Index_type              Sector  \\\n",
              "1850            LEEL Electricals Limited       None         Industrials   \n",
              "1856                      Nakoda Limited       None   Consumer Cyclical   \n",
              "1829              Gitanjali Gems Limited       None   Consumer Cyclical   \n",
              "1809           Binani Industries Limited       None     Basic Materials   \n",
              "1897      Talwalkars Healthclubs Limited       None   Consumer Cyclical   \n",
              "...                                  ...        ...                 ...   \n",
              "1291  Mangalam Global Enterprise Limited       None  Consumer Defensive   \n",
              "20            Adani Green Energy Limited      Large           Utilities   \n",
              "367                V-Mart Retail Limited       None   Consumer Cyclical   \n",
              "1322    Lloyds Steels Industries Limited       None         Industrials   \n",
              "1731    Onelife Capital Advisors Limited       None  Financial Services   \n",
              "\n",
              "                            Industry      Symbol          P/E     MarketCap  \\\n",
              "1850  Specialty Industrial Machinery        LEEL     0.019770  1.008308e+08   \n",
              "1856           Textile Manufacturing      NAKODA     0.021617  1.500000e+07   \n",
              "1829                    Luxury Goods   GITANJALI     0.062278  1.257333e+08   \n",
              "1809             Specialty Chemicals   BINANIIND     0.069511  1.740824e+08   \n",
              "1897                         Leisure     TALWGYM     0.135747  3.255514e+07   \n",
              "...                              ...         ...          ...           ...   \n",
              "1291                   Farm Products        MGEL  1833.529400  3.909669e+09   \n",
              "20               Utilities—Renewable  ADANIGREEN  1853.574800  3.041061e+12   \n",
              "367                Department Stores       VMART  1950.191500  7.059777e+10   \n",
              "1322  Specialty Industrial Machinery        LSIL  2783.333500  1.500826e+10   \n",
              "1731                 Capital Markets  ONELIFECAP  3512.500000  1.880761e+08   \n",
              "\n",
              "                wt  \n",
              "1850  4.284384e-07  \n",
              "1856  6.373627e-08  \n",
              "1829  5.342514e-07  \n",
              "1809  7.396909e-07  \n",
              "1897  1.383296e-07  \n",
              "...            ...  \n",
              "1291  1.661251e-05  \n",
              "20    1.292173e-02  \n",
              "367   2.999759e-04  \n",
              "1322  6.377135e-05  \n",
              "1731  7.991513e-07  \n",
              "\n",
              "[1238 rows x 8 columns]"
            ]
          },
          "metadata": {},
          "output_type": "display_data"
        }
      ],
      "source": [
        "#  Sorting Data\n",
        "sorted_df=df.sort_values(by=['P/E'])\n",
        "display(sorted_df)"
      ]
    },
    {
      "cell_type": "markdown",
      "id": "9ffd638a",
      "metadata": {
        "id": "9ffd638a"
      },
      "source": [
        "###  Trimmed Mean"
      ]
    },
    {
      "cell_type": "code",
      "execution_count": null,
      "id": "da3eaeef",
      "metadata": {
        "id": "da3eaeef",
        "outputId": "c035705b-cd98-4d9e-b24b-198b760aa234"
      },
      "outputs": [
        {
          "name": "stdout",
          "output_type": "stream",
          "text": [
            "The trimmed mean of data is 36.66398512858319\n"
          ]
        }
      ],
      "source": [
        "#  Trimmed Mean\n",
        "trimed_percentage=0.01\n",
        "trimnum=math.floor(len(sorted_df)*trimed_percentage)\n",
        "trimmean=sorted_df[\"P/E\"].iloc[trimnum:len(sorted_df)-trimnum].mean()\n",
        "print(\"The trimmed mean of data is\",trimmean)"
      ]
    },
    {
      "cell_type": "markdown",
      "id": "af82d0df",
      "metadata": {
        "id": "af82d0df"
      },
      "source": [
        "###  Weighted median"
      ]
    },
    {
      "cell_type": "code",
      "execution_count": null,
      "id": "53d493e6",
      "metadata": {
        "id": "53d493e6",
        "outputId": "e525d1ab-8d3f-4222-bdae-59e1ea04f1e3"
      },
      "outputs": [
        {
          "name": "stdout",
          "output_type": "stream",
          "text": [
            "Company Name    UltraTech Cement Limited\n",
            "Index_type                         Large\n",
            "Sector                   Basic Materials\n",
            "Industry              Building Materials\n",
            "Symbol                        ULTRACEMCO\n",
            "P/E                            32.069355\n",
            "MarketCap                2082795683840.0\n",
            "wt                               0.00885\n",
            "Name: 18, dtype: object\n",
            "Weighted Median of data is  32.069355\n"
          ]
        }
      ],
      "source": [
        "#  Weighted median\n",
        "wightedsum=0\n",
        "for i, row in sorted_df.iterrows():\n",
        "    wightedsum+=row[\"wt\"]\n",
        "    if wightedsum>=0.5:\n",
        "        print(row)\n",
        "        weighted_median=row[\"P/E\"]\n",
        "        break\n",
        "print(\"Weighted Median of data is \",weighted_median)"
      ]
    },
    {
      "cell_type": "markdown",
      "id": "b614ba72",
      "metadata": {
        "id": "b614ba72"
      },
      "source": [
        "### Deviation"
      ]
    },
    {
      "cell_type": "code",
      "execution_count": null,
      "id": "de45fc9f",
      "metadata": {
        "id": "de45fc9f",
        "outputId": "b1f83de6-271c-47b3-fb2a-798d104bdae8"
      },
      "outputs": [
        {
          "data": {
            "text/plain": [
              "0      -23.342114\n",
              "1      -13.345854\n",
              "2      -27.632475\n",
              "3      -17.058504\n",
              "4       10.188493\n",
              "          ...    \n",
              "1856   -50.937507\n",
              "1862   -43.947230\n",
              "1872   -15.382201\n",
              "1882   -49.930125\n",
              "1897   -50.823377\n",
              "Name: P/E, Length: 1238, dtype: float64"
            ]
          },
          "execution_count": 13,
          "metadata": {},
          "output_type": "execute_result"
        }
      ],
      "source": [
        "# Deviation\n",
        "df[\"P/E\"]-df[\"P/E\"].mean()"
      ]
    },
    {
      "cell_type": "markdown",
      "id": "d14f0a42",
      "metadata": {
        "id": "d14f0a42"
      },
      "source": [
        "### Standard deviation"
      ]
    },
    {
      "cell_type": "code",
      "execution_count": null,
      "id": "0ef8ada4",
      "metadata": {
        "id": "0ef8ada4",
        "outputId": "455e999f-689c-4540-9b13-695321108130"
      },
      "outputs": [
        {
          "name": "stdout",
          "output_type": "stream",
          "text": [
            "The standard deviation of data is  178.8863472441852\n"
          ]
        }
      ],
      "source": [
        "# Standard deviation\n",
        "print(\"The standard deviation of data is \",df[\"P/E\"].std())"
      ]
    },
    {
      "cell_type": "markdown",
      "id": "d8cbf05d",
      "metadata": {
        "id": "d8cbf05d"
      },
      "source": [
        "### Variance"
      ]
    },
    {
      "cell_type": "code",
      "execution_count": null,
      "id": "4ed95e1b",
      "metadata": {
        "id": "4ed95e1b",
        "outputId": "e361ad03-3a92-4da0-bfaf-58fb00a61ccf"
      },
      "outputs": [
        {
          "name": "stdout",
          "output_type": "stream",
          "text": [
            "The variance of data is  32000.32523036721\n"
          ]
        }
      ],
      "source": [
        "# Variance\n",
        "print(\"The variance of data is \",df[\"P/E\"].var())"
      ]
    },
    {
      "cell_type": "markdown",
      "id": "f381f6b3",
      "metadata": {
        "id": "f381f6b3"
      },
      "source": [
        "### Mean absolute deviation"
      ]
    },
    {
      "cell_type": "code",
      "execution_count": null,
      "id": "8a7fec2e",
      "metadata": {
        "id": "8a7fec2e",
        "outputId": "3e887159-26b5-430b-d7c0-9503d83eea83"
      },
      "outputs": [
        {
          "name": "stdout",
          "output_type": "stream",
          "text": [
            "Mean absoulte Deviation of data  51.35510026508985\n"
          ]
        }
      ],
      "source": [
        "# Mean absolute deviation\n",
        "print(\"Mean absoulte Deviation of data \",((df[\"P/E\"]-df[\"P/E\"].mean()).abs()).mean())"
      ]
    },
    {
      "cell_type": "markdown",
      "id": "c1a8e332",
      "metadata": {
        "id": "c1a8e332"
      },
      "source": [
        "### Median absolute deviation from the median"
      ]
    },
    {
      "cell_type": "code",
      "execution_count": null,
      "id": "ad5e3bba",
      "metadata": {
        "id": "ad5e3bba",
        "outputId": "faaa1b55-dc98-4d2e-cc5e-c0b09bd20b64"
      },
      "outputs": [
        {
          "name": "stdout",
          "output_type": "stream",
          "text": [
            "Median absolute deviation from the median of the data is 11.5634205\n"
          ]
        }
      ],
      "source": [
        "# Median absolute deviation from the median\n",
        "d_1=df[\"P/E\"]-df[\"P/E\"].median()\n",
        "d_2=d_1.abs()\n",
        "d_3=d_2.sort_values()\n",
        "print(\"Median absolute deviation from the median of the data is\",d_3.median())"
      ]
    },
    {
      "cell_type": "markdown",
      "id": "fe20b7ef",
      "metadata": {
        "id": "fe20b7ef"
      },
      "source": [
        "### Range of data"
      ]
    },
    {
      "cell_type": "code",
      "execution_count": null,
      "id": "b235e26a",
      "metadata": {
        "id": "b235e26a",
        "outputId": "99c37e8f-26ba-4ee3-ae09-bdbf27f60fcb"
      },
      "outputs": [
        {
          "name": "stdout",
          "output_type": "stream",
          "text": [
            "Maximum value in the data 3512.5\n",
            "Minimum value in the data 0.019769566\n",
            "The range of given data is 3512.480230434\n"
          ]
        }
      ],
      "source": [
        "# Range (Order statistics)\n",
        "df_sort=df[\"P/E\"].sort_values()\n",
        "print(\"Maximum value in the data\",df_sort.iloc[-1])\n",
        "print(\"Minimum value in the data\",df_sort.iloc[0])\n",
        "Range=df_sort.iloc[-1]-df_sort.iloc[0]\n",
        "print(\"The range of given data is\",Range)"
      ]
    },
    {
      "cell_type": "markdown",
      "id": "06035e9f",
      "metadata": {
        "id": "06035e9f"
      },
      "source": [
        "#### As the range of the data is high which says that data is dispersed over a huge surface"
      ]
    },
    {
      "cell_type": "markdown",
      "id": "ed7ea90a",
      "metadata": {
        "id": "ed7ea90a"
      },
      "source": [
        "### Percentile"
      ]
    },
    {
      "cell_type": "code",
      "execution_count": null,
      "id": "5b94e10d",
      "metadata": {
        "id": "5b94e10d",
        "outputId": "3ac33ca7-1f5d-4df0-e535-160acfcf9ec3"
      },
      "outputs": [
        {
          "name": "stdout",
          "output_type": "stream",
          "text": [
            "Threshold value 20.721981\n",
            "620\n"
          ]
        }
      ],
      "source": [
        "# Percentile (Order Statistics)\n",
        "th=df[\"P/E\"].quantile(0.5)\n",
        "print(\"Threshold value\",th)\n",
        "print((df[\"P/E\"]<=th).sum()+1)"
      ]
    },
    {
      "cell_type": "markdown",
      "id": "4c1e24f5",
      "metadata": {
        "id": "4c1e24f5"
      },
      "source": [
        "### Inter Qualitile Range"
      ]
    },
    {
      "cell_type": "code",
      "execution_count": null,
      "id": "4a67f662",
      "metadata": {
        "id": "4a67f662",
        "outputId": "9a3c2132-3b37-4dc2-a745-ea6b820352fe"
      },
      "outputs": [
        {
          "name": "stdout",
          "output_type": "stream",
          "text": [
            "The Inter Qualitile Range of given data is 28.5075825\n"
          ]
        }
      ],
      "source": [
        "IQR=df[\"P/E\"].quantile(0.75)-df[\"P/E\"].quantile(0.25)\n",
        "print(\"The Inter Qualitile Range of given data is\",IQR)"
      ]
    },
    {
      "cell_type": "code",
      "execution_count": null,
      "id": "518529e8",
      "metadata": {
        "id": "518529e8"
      },
      "outputs": [],
      "source": [
        ""
      ]
    }
  ],
  "metadata": {
    "kernelspec": {
      "display_name": "Python 3 (ipykernel)",
      "language": "python",
      "name": "python3"
    },
    "language_info": {
      "codemirror_mode": {
        "name": "ipython",
        "version": 3
      },
      "file_extension": ".py",
      "mimetype": "text/x-python",
      "name": "python",
      "nbconvert_exporter": "python",
      "pygments_lexer": "ipython3",
      "version": "3.9.5"
    },
    "colab": {
      "name": " Assignment6_CS_201951164.ipynb",
      "provenance": [],
      "collapsed_sections": [],
      "include_colab_link": true
    }
  },
  "nbformat": 4,
  "nbformat_minor": 5
}