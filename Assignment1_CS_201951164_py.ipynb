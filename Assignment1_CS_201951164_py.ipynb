{
  "cells": [
    {
      "cell_type": "markdown",
      "metadata": {
        "id": "PKC8dw-lr-lZ"
      },
      "source": [
        "Question 1"
      ]
    },
    {
      "cell_type": "code",
      "execution_count": 8,
      "metadata": {
        "colab": {
          "base_uri": "https://localhost:8080/"
        },
        "id": "yw1zl3_ecUnM",
        "outputId": "e5434a47-1586-46a5-a9cb-025b54445b21"
      },
      "outputs": [
        {
          "ename": "ModuleNotFoundError",
          "evalue": "No module named 'pandas'",
          "output_type": "error",
          "traceback": [
            "\u001b[1;31m---------------------------------------------------------------------------\u001b[0m",
            "\u001b[1;31mModuleNotFoundError\u001b[0m                       Traceback (most recent call last)",
            "Input \u001b[1;32mIn [8]\u001b[0m, in \u001b[0;36m<module>\u001b[1;34m\u001b[0m\n\u001b[1;32m----> 1\u001b[0m \u001b[38;5;28;01mimport\u001b[39;00m \u001b[38;5;21;01mpandas\u001b[39;00m \n\u001b[0;32m      2\u001b[0m \u001b[38;5;28;01mimport\u001b[39;00m \u001b[38;5;21;01mjson\u001b[39;00m\n\u001b[0;32m      3\u001b[0m \u001b[38;5;28;01mimport\u001b[39;00m \u001b[38;5;21;01msys\u001b[39;00m\n",
            "\u001b[1;31mModuleNotFoundError\u001b[0m: No module named 'pandas'"
          ]
        }
      ],
      "source": [
        "import pandas as pd\n",
        "import json\n",
        "import sys\n",
        "data = pd.read_csv(\"district_level_service_msme.csv\")\n",
        "print(data)"
      ]
    },
    {
      "cell_type": "markdown",
      "metadata": {
        "id": "mXUuhDZBsEif"
      },
      "source": [
        "Question 2"
      ]
    },
    {
      "cell_type": "code",
      "execution_count": 16,
      "metadata": {
        "colab": {
          "base_uri": "https://localhost:8080/"
        },
        "id": "KcI4rwbUpnzd",
        "outputId": "49b7c98e-b740-4d0f-cff0-b21aaf5fd64a"
      },
      "outputs": [
        {
          "name": "stdout",
          "output_type": "stream",
          "text": [
            "         STATE_NAME Lg_Dist_Code  ...  Total Last_Updated\n",
            "0    ANDHRA PRADESH          502  ...  11886   2022-01-11\n",
            "1    ANDHRA PRADESH          503  ...  13680   2022-01-11\n",
            "2    ANDHRA PRADESH          505  ...  17878   2022-01-11\n",
            "3    ANDHRA PRADESH          506  ...  17802   2022-01-11\n",
            "4    ANDHRA PRADESH          510  ...  22298   2022-01-11\n",
            "..              ...          ...  ...    ...          ...\n",
            "732          LADAKH            9  ...   1528   2022-01-11\n",
            "733     LAKSHADWEEP          553  ...    150   2022-01-11\n",
            "734      PUDUCHERRY          598  ...   1306   2022-01-11\n",
            "735      PUDUCHERRY          599  ...    112   2022-01-11\n",
            "736      PUDUCHERRY          600  ...   8161   2022-01-11\n",
            "\n",
            "[737 rows x 8 columns]\n"
          ]
        }
      ],
      "source": [
        "file_directory = \"district_level_manufacturing_msme.json\"\n",
        "f = open(file_directory)\n",
        "loaded_data = json.load(f)\n",
        "columns = pd.DataFrame(loaded_data[\"fields\"])[\"label\"].tolist()\n",
        "var_data = pd.DataFrame(loaded_data[\"data\"],columns = columns)\n",
        "print(var_data)\n"
      ]
    },
    {
      "cell_type": "markdown",
      "metadata": {
        "id": "SpdiD76OcWLy"
      },
      "source": [
        "first convert the data  then find out the total small  Manufacturing MSME in india"
      ]
    },
    {
      "cell_type": "code",
      "execution_count": 13,
      "metadata": {
        "colab": {
          "base_uri": "https://localhost:8080/"
        },
        "id": "M4XiETMjcWoW",
        "outputId": "798f287b-6bd6-4cd4-da15-0fa6914e8fc3"
      },
      "outputs": [
        {
          "name": "stdout",
          "output_type": "stream",
          "text": [
            "317222\n"
          ]
        }
      ],
      "source": [
        "\n",
        "small_Data = var_data[\"SMALL\"].astype(int).sum(axis = 0, skipna = True) #First we will convert the data from string to in then we will sum it\n",
        "print(small_Data)"
      ]
    },
    {
      "cell_type": "markdown",
      "metadata": {
        "id": "oGSsvvb1rhe-"
      },
      "source": [
        "Question 3"
      ]
    },
    {
      "cell_type": "code",
      "execution_count": 4,
      "metadata": {
        "id": "mzsWrJXnpt8Q"
      },
      "outputs": [
        {
          "ename": "NameError",
          "evalue": "name 'data' is not defined",
          "output_type": "error",
          "traceback": [
            "\u001b[1;31m---------------------------------------------------------------------------\u001b[0m",
            "\u001b[1;31mNameError\u001b[0m                                 Traceback (most recent call last)",
            "Input \u001b[1;32mIn [4]\u001b[0m, in \u001b[0;36m<module>\u001b[1;34m\u001b[0m\n\u001b[1;32m----> 1\u001b[0m total_Data \u001b[38;5;241m=\u001b[39m \u001b[43mdata\u001b[49m\u001b[38;5;241m.\u001b[39mgroupby(\u001b[38;5;124m\"\u001b[39m\u001b[38;5;124mSTATE_NAME\u001b[39m\u001b[38;5;124m\"\u001b[39m)[\u001b[38;5;124m\"\u001b[39m\u001b[38;5;124mMICRO\u001b[39m\u001b[38;5;124m\"\u001b[39m,\u001b[38;5;124m\"\u001b[39m\u001b[38;5;124mSMALL\u001b[39m\u001b[38;5;124m\"\u001b[39m,\u001b[38;5;124m\"\u001b[39m\u001b[38;5;124mMEDIUM\u001b[39m\u001b[38;5;124m\"\u001b[39m]\u001b[38;5;241m.\u001b[39msum()\n\u001b[0;32m      2\u001b[0m \u001b[38;5;28mprint\u001b[39m(total_Data)\n\u001b[0;32m      3\u001b[0m file_directory \u001b[38;5;241m=\u001b[39m (\u001b[38;5;124m\"\u001b[39m\u001b[38;5;124m201951164_Urmila.csv\u001b[39m\u001b[38;5;124m\"\u001b[39m)\n",
            "\u001b[1;31mNameError\u001b[0m: name 'data' is not defined"
          ]
        }
      ],
      "source": [
        "total_Data = data.groupby(\"STATE_NAME\")[\"MICRO\",\"SMALL\",\"MEDIUM\"].sum()\n",
        "print(total_Data)\n",
        "file_directory = (\"201951164_Urmila.csv\")\n",
        "total_Data.to_csv(file_directory)"
      ]
    },
    {
      "cell_type": "markdown",
      "metadata": {
        "id": "iaMj7sBwreev"
      },
      "source": [
        "Question 4"
      ]
    },
    {
      "cell_type": "code",
      "execution_count": 3,
      "metadata": {
        "id": "RIIug6PPp0MW"
      },
      "outputs": [
        {
          "ename": "NameError",
          "evalue": "name 'data' is not defined",
          "output_type": "error",
          "traceback": [
            "\u001b[1;31m---------------------------------------------------------------------------\u001b[0m",
            "\u001b[1;31mNameError\u001b[0m                                 Traceback (most recent call last)",
            "Input \u001b[1;32mIn [3]\u001b[0m, in \u001b[0;36m<module>\u001b[1;34m\u001b[0m\n\u001b[1;32m----> 1\u001b[0m data[\u001b[38;5;124m'\u001b[39m\u001b[38;5;124mLg_Dist_Code\u001b[39m\u001b[38;5;124m'\u001b[39m]\u001b[38;5;241m=\u001b[39m\u001b[43mdata\u001b[49m[\u001b[38;5;124m'\u001b[39m\u001b[38;5;124mLg_Dist_Code\u001b[39m\u001b[38;5;124m'\u001b[39m]\u001b[38;5;241m.\u001b[39mapply(\u001b[38;5;28mstr\u001b[39m)\n\u001b[0;32m      2\u001b[0m data[\u001b[38;5;124m'\u001b[39m\u001b[38;5;124mLast_Updated\u001b[39m\u001b[38;5;124m'\u001b[39m]\u001b[38;5;241m=\u001b[39mdata[\u001b[38;5;124m'\u001b[39m\u001b[38;5;124mLast_Updated\u001b[39m\u001b[38;5;124m'\u001b[39m]\u001b[38;5;241m.\u001b[39mapply(\u001b[38;5;28mstr\u001b[39m)\n\u001b[0;32m      3\u001b[0m var_data[\u001b[38;5;124m'\u001b[39m\u001b[38;5;124mLg_Dist_Code\u001b[39m\u001b[38;5;124m'\u001b[39m]\u001b[38;5;241m=\u001b[39mvar_data[\u001b[38;5;124m'\u001b[39m\u001b[38;5;124mLg_Dist_Code\u001b[39m\u001b[38;5;124m'\u001b[39m]\u001b[38;5;241m.\u001b[39mapply(\u001b[38;5;28mstr\u001b[39m)\n",
            "\u001b[1;31mNameError\u001b[0m: name 'data' is not defined"
          ]
        }
      ],
      "source": [
        "data['Lg_Dist_Code']=data['Lg_Dist_Code'].apply(str)\n",
        "data['Last_Updated']=data['Last_Updated'].apply(str)\n",
        "var_data['Lg_Dist_Code']=var_data['Lg_Dist_Code'].apply(str)\n",
        "var_data['Last_Updated']=var_data['Last_Updated'].apply(str)\n",
        "join_Data = pd.merge(var_data,data,on=['STATE_NAME','DISTRICT_NAME','Lg_Dist_Code','Last_Updated'],how='inner')\n",
        "print(join_Data)\n"
      ]
    },
    {
      "cell_type": "markdown",
      "metadata": {
        "id": "ekjZGzlDrbhW"
      },
      "source": [
        "Question 5"
      ]
    },
    {
      "cell_type": "code",
      "execution_count": 2,
      "metadata": {
        "colab": {
          "base_uri": "https://localhost:8080/"
        },
        "id": "ftHTPO3Cp4LD",
        "outputId": "6961bffa-b393-4296-b9fd-b0ac05b1ad04"
      },
      "outputs": [
        {
          "ename": "NameError",
          "evalue": "name 'var_data' is not defined",
          "output_type": "error",
          "traceback": [
            "\u001b[1;31m---------------------------------------------------------------------------\u001b[0m",
            "\u001b[1;31mNameError\u001b[0m                                 Traceback (most recent call last)",
            "Input \u001b[1;32mIn [2]\u001b[0m, in \u001b[0;36m<module>\u001b[1;34m\u001b[0m\n\u001b[1;32m----> 1\u001b[0m var_data[\u001b[38;5;124m'\u001b[39m\u001b[38;5;124mMICRO\u001b[39m\u001b[38;5;124m'\u001b[39m]\u001b[38;5;241m=\u001b[39m\u001b[43mvar_data\u001b[49m[\u001b[38;5;124m'\u001b[39m\u001b[38;5;124mMICRO\u001b[39m\u001b[38;5;124m'\u001b[39m]\u001b[38;5;241m.\u001b[39mastype(\u001b[38;5;28mint\u001b[39m)\n\u001b[0;32m      2\u001b[0m var_data[\u001b[38;5;124m'\u001b[39m\u001b[38;5;124mSMALL\u001b[39m\u001b[38;5;124m'\u001b[39m]\u001b[38;5;241m=\u001b[39mvar_data[\u001b[38;5;124m'\u001b[39m\u001b[38;5;124mSMALL\u001b[39m\u001b[38;5;124m'\u001b[39m]\u001b[38;5;241m.\u001b[39mastype(\u001b[38;5;28mint\u001b[39m)\n\u001b[0;32m      3\u001b[0m var_data[\u001b[38;5;124m'\u001b[39m\u001b[38;5;124mMEDIUM\u001b[39m\u001b[38;5;124m'\u001b[39m]\u001b[38;5;241m=\u001b[39mvar_data[\u001b[38;5;124m'\u001b[39m\u001b[38;5;124mMEDIUM\u001b[39m\u001b[38;5;124m'\u001b[39m]\u001b[38;5;241m.\u001b[39mastype(\u001b[38;5;28mint\u001b[39m)\n",
            "\u001b[1;31mNameError\u001b[0m: name 'var_data' is not defined"
          ]
        }
      ],
      "source": [
        "var_data['MICRO']=var_data['MICRO'].astype(int)\n",
        "var_data['SMALL']=var_data['SMALL'].astype(int)\n",
        "var_data['MEDIUM']=var_data['MEDIUM'].astype(int)\n",
        "second_total_Data = var_data.groupby('STATE_NAME')['MICRO','SMALL','MEDIUM'].sum()\n",
        "pivot_Data = pd.merge(total_Data,second_total_Data,on='STATE_NAME')\n",
        "print(pivot_Data)\n"
      ]
    }
  ],
  "metadata": {
    "colab": {
      "collapsed_sections": [],
      "name": "Assignment1_CS_201951164.py",
      "provenance": []
    },
    "kernelspec": {
      "display_name": "Python 3",
      "name": "python3"
    },
    "language_info": {
      "codemirror_mode": {
        "name": "ipython",
        "version": 3
      },
      "file_extension": ".py",
      "mimetype": "text/x-python",
      "name": "python",
      "nbconvert_exporter": "python",
      "pygments_lexer": "ipython3",
      "version": "3.9.1"
    }
  },
  "nbformat": 4,
  "nbformat_minor": 0
}
